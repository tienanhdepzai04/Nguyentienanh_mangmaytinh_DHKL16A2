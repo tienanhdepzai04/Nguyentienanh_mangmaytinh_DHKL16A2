{
 "cells": [
  {
   "cell_type": "code",
   "execution_count": 1,
   "id": "c6a029a5",
   "metadata": {},
   "outputs": [
    {
     "name": "stdout",
     "output_type": "stream",
     "text": [
      "Văn bản mã hóa (AES): b'\\x7f\\x1e\\xb1Uh\\xaf\\x1dO\\x08\\x08\\xad9\\xd5\\xd3Ci\\xfd\\x88G\\xec\\xde\\x86L\\xe4\\x8c[\\xf1\\xdf=\\x9b\\x8d\\xcb\\x9e\\xc4\\xca\\x81\\x05et\\x84\\xda\\x18M\\xe9\\xc9\\xbf\\xe2\\xf9\\x9c\\xec$v\\x8ba\\xba\\xd0%\\xe1\\xd3\\xc8`\\xde\\xbbR'\n",
      "Thời gian mã hóa AES: 0.0001518726348876953 giây\n",
      "Văn bản giải mã (AES): Hello, this is a test message for AES encryption!\n",
      "Thời gian giải mã AES: 0.00019812583923339844 giây\n"
     ]
    }
   ],
   "source": [
    "from Crypto.Cipher import AES\n",
    "from Crypto.Random import get_random_bytes\n",
    "from Crypto.Util.Padding import pad, unpad\n",
    "import time\n",
    "\n",
    "# Tạo khóa mã hóa 128-bit và khởi tạo AES\n",
    "key = get_random_bytes(16)\n",
    "cipher = AES.new(key, AES.MODE_CBC)\n",
    "\n",
    "plaintext = b\"Hello, this is a test message for AES encryption!\"\n",
    "\n",
    "# Đo thời gian mã hóa AES\n",
    "start_time = time.time()\n",
    "ciphertext = cipher.encrypt(pad(plaintext, AES.block_size))\n",
    "end_time = time.time()\n",
    "# Tính thời gian mã hóa\n",
    "aes_encryption_time = end_time - start_time\n",
    "print(\"Văn bản mã hóa (AES):\", ciphertext)\n",
    "print(\"Thời gian mã hóa AES:\", aes_encryption_time, \"giây\")\n",
    "\n",
    "# Giải mã và đo thời gian giải mã AES\n",
    "start_time = time.time()\n",
    "cipher = AES.new(key, AES.MODE_CBC, cipher.iv)  # Sử dụng lại IV\n",
    "decrypted_text = unpad(cipher.decrypt(ciphertext), AES.block_size)\n",
    "end_time = time.time()\n",
    "\n",
    "aes_decryption_time = end_time - start_time\n",
    "print(\"Văn bản giải mã (AES):\", decrypted_text.decode())\n",
    "print(\"Thời gian giải mã AES:\", aes_decryption_time, \"giây\")"
   ]
  },
  {
   "cell_type": "code",
   "execution_count": 2,
   "id": "6f26a9d0",
   "metadata": {},
   "outputs": [
    {
     "name": "stdout",
     "output_type": "stream",
     "text": [
      "Khóa AES sau khi mã hóa bằng RSA: b'!A>\\x83\\x8d\\xb1\\xae\\x14\\xfd?\\x99~p\\x86\\xba\\xce\\xf5H\\x19\\x080Y\\xc9\\xcaPW\\xc3\\\\\\x17\\x1c\\x93\\xcf\\x86s\\xd4=\\xf7$\\x1aoI!\\'\\xb6\\xd6\\xff\\xc1\\x15U\\x16\\xe4!57|4\\xc5\\xa0.V\\x87\\x00\\xc3\\xd8\\xec\\x05\\x0cP\\x94\\xf2MsG\\xc2\\xda\\xf1um\\xfc\\x7f\\x9e\\x8d\\xc7\\xf6\\xe1\\x9f\\xae\\x08\\x04\\x16\\xa9eq\\x84U\\x1e\\xefg\\xc3\\x1c 5|g\\xb6\\x95%\\x90`\\xee\\xa4\\x88=\\x1c2\\x0b\\x1f\\x81\\xaaH\\xdb\\xccUok\\xbe!\\xe6\\x0e\\xa5\\xe2v\\t\\xdbz\\xc1\\x04Zkg,\\x96\\xb1OD\\x04w\\xde\\xcf\\x9d\\xd59\\xd4\\xdf\\xb9\\xc1k\\x19\\n\\xe6\\xe9\\xf4\\xfec\\xc7\\xa5\\x15\\x93u\\xca\\xa9\\xe8g\\xb8\\xc4\\x18.B\\x90s\\x1dAs\\xef\\x85\\xcb\\x12i\\xff$\\xfe\\xb2\\xb6\\xf4\\xe6\\xee\\x15M(H\\xbc^\\xb6\\xdd\\x810\\xa5@\\xa2\\x1fb\\x8e\\x84\\x82\\x8a\"p?\\x02\\xda^K\\x0f\\x12nh\\x00\\x9b\\x9da\\x95\\x9a\\xe9\\x9e\\x84\\xcf\\xe2\\x7f\\xd3\\x91E\\xf7\\xc6Ds;\\x14\\x97d\\xa8\\x17A\\xdd\\xbc\\x8e\\x9f'\n",
      "Thời gian mã hóa RSA: 0.0012254714965820312 giây\n",
      "Khóa AES sau khi giải mã: b'J\\xe0,\\xde\\xc8\\xcd\\xaa\\xbdj\\x86\\xe4tV\\x81U\\xae'\n",
      "Thời gian giải mã RSA: 0.005476474761962891 giây\n"
     ]
    }
   ],
   "source": [
    "from Crypto.PublicKey import RSA\n",
    "from Crypto.Cipher import PKCS1_OAEP\n",
    "\n",
    "# Tạo cặp khóa RSA\n",
    "key = RSA.generate(2048)\n",
    "private_key = key.export_key()\n",
    "public_key = key.publickey().export_key()\n",
    "\n",
    "# Mã hóa khóa AES bằng khóa công khai RSA và đo thời gian\n",
    "aes_key = get_random_bytes(16)\n",
    "cipher_rsa = PKCS1_OAEP.new(RSA.import_key(public_key))\n",
    "# Mã hóa khóa AES bằng khóa công khai RSA và đo thời gian\n",
    "start_time = time.time()\n",
    "encrypted_aes_key = cipher_rsa.encrypt(aes_key)\n",
    "end_time = time.time()\n",
    "rsa_encryption_time = end_time - start_time\n",
    "\n",
    "print(\"Khóa AES sau khi mã hóa bằng RSA:\", encrypted_aes_key)\n",
    "print(\"Thời gian mã hóa RSA:\", rsa_encryption_time, \"giây\")\n",
    "\n",
    "# Giải mã khóa AES bằng khóa bí mật RSA và đo thời gian\n",
    "decipher_rsa = PKCS1_OAEP.new(RSA.import_key(private_key))\n",
    "\n",
    "start_time = time.time()\n",
    "decrypted_aes_key = decipher_rsa.decrypt(encrypted_aes_key)\n",
    "end_time = time.time()\n",
    "rsa_decryption_time = end_time - start_time\n",
    "\n",
    "print(\"Khóa AES sau khi giải mã:\", decrypted_aes_key)\n",
    "print(\"Thời gian giải mã RSA:\", rsa_decryption_time, \"giây\")"
   ]
  }
 ],
 "metadata": {
  "kernelspec": {
   "display_name": "Python 3",
   "language": "python",
   "name": "python3"
  },
  "language_info": {
   "codemirror_mode": {
    "name": "ipython",
    "version": 3
   },
   "file_extension": ".py",
   "mimetype": "text/x-python",
   "name": "python",
   "nbconvert_exporter": "python",
   "pygments_lexer": "ipython3",
   "version": "3.13.0"
  }
 },
 "nbformat": 4,
 "nbformat_minor": 5
}
