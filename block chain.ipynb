{
 "cells": [
  {
   "cell_type": "markdown",
   "id": "8d9b0e5a",
   "metadata": {},
   "source": [
    "**Hồ Thị Minh Hằng - 22174600024 - Lớp DHKL16A2HN**"
   ]
  },
  {
   "cell_type": "markdown",
   "id": "9d2769e4",
   "metadata": {},
   "source": [
    "BÀI TẬP VẬN DỤNG"
   ]
  },
  {
   "cell_type": "markdown",
   "id": "1ebee2d9",
   "metadata": {},
   "source": [
    "\n",
    " Bài 1. Viết chương trình Python để mô phỏng một chuỗi Blockchain gồm 3 khối. Mỗi khối chứa một thông điệp và\n",
    " mã băm(hash) của khối trước.\n",
    " \n",
    " Gợi ý:\n",
    "- Sử dụng hashlib.sha256() để tạo mã băm (hash).\n",
    "- Mỗi khối gồm: thông điệp, thời gian tạo, mã băm (hash) khối trước.\n",
    "- In ra chuỗi khối và thử thay đổi thông tin khối giữa → quan sát hậu quả."
   ]
  },
  {
   "cell_type": "code",
   "execution_count": 1,
   "id": "fd0fde7e",
   "metadata": {},
   "outputs": [
    {
     "name": "stdout",
     "output_type": "stream",
     "text": [
      "Chuỗi Blockchain ban đầu:\n",
      "Block(Message: Khối đầu tiên, Timestamp: 1745389705.6269646, Hash: 5d20c92a70789021d21005c7d42022ad6cfa4bbcbefe838e18ee0dc2cff99f89, Previous Hash: 0)\n",
      "Block(Message: Khối thứ hai, Timestamp: 1745389705.6269646, Hash: 84eea2854b7a2fcbcf5f02a31f0ca41beca972f40421cf8f6ed570e76a19654b, Previous Hash: 5d20c92a70789021d21005c7d42022ad6cfa4bbcbefe838e18ee0dc2cff99f89)\n",
      "Block(Message: Khối thứ ba, Timestamp: 1745389705.6269646, Hash: aecc49675659e6851e2602978378534b7465dccb2fea97ecebf474debc9a6d93, Previous Hash: 84eea2854b7a2fcbcf5f02a31f0ca41beca972f40421cf8f6ed570e76a19654b)\n",
      "\n",
      "Thay đổi thông điệp khối thứ hai và kiểm tra lại chuỗi:\n",
      "Block(Message: Khối đầu tiên, Timestamp: 1745389705.6269646, Hash: 5d20c92a70789021d21005c7d42022ad6cfa4bbcbefe838e18ee0dc2cff99f89, Previous Hash: 0)\n",
      "Block(Message: Khối thứ hai (đã thay đổi), Timestamp: 1745389705.6269646, Hash: bcc1852cf67d89f11a69dbf796e89748dc9079d1e0851734ac2ff7260dbbe9e1, Previous Hash: 5d20c92a70789021d21005c7d42022ad6cfa4bbcbefe838e18ee0dc2cff99f89)\n",
      "Block(Message: Khối thứ ba, Timestamp: 1745389705.6269646, Hash: 714e87589c85d5b94574631f7c9d76ba698ad2f9d83d64fb1d73bcf946e3a2e4, Previous Hash: bcc1852cf67d89f11a69dbf796e89748dc9079d1e0851734ac2ff7260dbbe9e1)\n"
     ]
    }
   ],
   "source": [
    "import hashlib\n",
    "import time\n",
    "\n",
    "# Lớp Block mô phỏng một khối trong Blockchain\n",
    "class Block:\n",
    "    def __init__(self, message, previous_hash):\n",
    "        self.timestamp = time.time()  # Thời gian tạo khối\n",
    "        self.message = message  # Thông điệp chứa trong khối\n",
    "        self.previous_hash = previous_hash  # Mã băm của khối trước\n",
    "        self.hash = self.calculate_hash()  # Mã băm của khối hiện tại\n",
    "\n",
    "    def calculate_hash(self):\n",
    "        # Tạo mã băm SHA-256 từ thông điệp, thời gian và mã băm của khối trước\n",
    "        return hashlib.sha256(f\"{self.timestamp}{self.message}{self.previous_hash}\".encode('utf-8')).hexdigest()\n",
    "\n",
    "    def __repr__(self):\n",
    "        # Chuyển đổi khối thành chuỗi để in ra\n",
    "        return f\"Block(Message: {self.message}, Timestamp: {self.timestamp}, Hash: {self.hash}, Previous Hash: {self.previous_hash})\"\n",
    "\n",
    "# Tạo chuỗi Blockchain với 3 khối\n",
    "def create_blockchain():\n",
    "    # Khối đầu tiên (genesis block) không có khối trước, nên mã băm là chuỗi rỗng\n",
    "    genesis_block = Block(\"Khối đầu tiên\", \"0\")\n",
    "    second_block = Block(\"Khối thứ hai\", genesis_block.hash)\n",
    "    third_block = Block(\"Khối thứ ba\", second_block.hash)\n",
    "\n",
    "    # In ra thông tin các khối\n",
    "    blockchain = [genesis_block, second_block, third_block]\n",
    "    return blockchain\n",
    "\n",
    "# In ra thông tin Blockchain\n",
    "def print_blockchain(blockchain):\n",
    "    for block in blockchain:\n",
    "        print(block)\n",
    "\n",
    "# Tạo Blockchain\n",
    "blockchain = create_blockchain()\n",
    "\n",
    "# In ra chuỗi Blockchain ban đầu\n",
    "print(\"Chuỗi Blockchain ban đầu:\")\n",
    "print_blockchain(blockchain)\n",
    "\n",
    "# Thử thay đổi thông điệp của khối thứ hai và quan sát hậu quả\n",
    "print(\"\\nThay đổi thông điệp khối thứ hai và kiểm tra lại chuỗi:\")\n",
    "blockchain[1].message = \"Khối thứ hai (đã thay đổi)\"\n",
    "# Recalculate hash for second block and subsequent blocks\n",
    "blockchain[1].hash = blockchain[1].calculate_hash()\n",
    "blockchain[2].previous_hash = blockchain[1].hash\n",
    "blockchain[2].hash = blockchain[2].calculate_hash()\n",
    "\n",
    "# In ra chuỗi Blockchain sau khi thay đổi\n",
    "print_blockchain(blockchain)\n"
   ]
  },
  {
   "cell_type": "markdown",
   "id": "0967f184",
   "metadata": {},
   "source": [
    " Bài 2. Viết chương trình Python nhập một chuỗi bất kỳ (ví dụ: \"Học phần Mạng máy tính\") và tính mã băm (hash) bằng SHA-256. Sau đó, thay đổi một ký tự và quan sát sự thay đổi mã băm (hash)\n",
    "\n",
    "  Gợi ý:\n",
    "- Dùng thư viện hashlib.\n",
    "- Trình bày nhận xét: chỉ một thay đổi nhỏ → mã băm (hash) thay đổi toàn bộ."
   ]
  },
  {
   "cell_type": "code",
   "execution_count": 2,
   "id": "92a2e290",
   "metadata": {},
   "outputs": [
    {
     "name": "stdout",
     "output_type": "stream",
     "text": [
      "Mã băm (SHA-256) của chuỗi ban đầu: 6b86b273ff34fce19d6b804eff5a3f5747ada4eaa22f1d49c01e52ddb7875b4b\n",
      "Mã băm (SHA-256) của chuỗi đã thay đổi: 7cf631049bd2adec227af0bb0aa067c4531c6a278f4dc94cddffaae66c794c02\n",
      "Lưu ý: Chỉ một thay đổi nhỏ trong chuỗi đã dẫn đến sự thay đổi hoàn toàn mã băm.\n"
     ]
    }
   ],
   "source": [
    "import hashlib\n",
    "\n",
    "# Hàm tính mã băm SHA-256 của một chuỗi\n",
    "def calculate_hash(text):\n",
    "    return hashlib.sha256(text.encode('utf-8')).hexdigest()\n",
    "\n",
    "# Nhập chuỗi ban đầu\n",
    "text = input(\"Nhập chuỗi bất kỳ: \")\n",
    "\n",
    "# Tính mã băm của chuỗi ban đầu\n",
    "original_hash = calculate_hash(text)\n",
    "\n",
    "# In ra mã băm ban đầu\n",
    "print(f\"Mã băm (SHA-256) của chuỗi ban đầu: {original_hash}\")\n",
    "\n",
    "# Thay đổi một ký tự trong chuỗi\n",
    "modified_text = text[:10] + \"X\" + text[11:]\n",
    "\n",
    "# Tính mã băm của chuỗi đã thay đổi\n",
    "modified_hash = calculate_hash(modified_text)\n",
    "\n",
    "# In ra mã băm sau khi thay đổi chuỗi\n",
    "print(f\"Mã băm (SHA-256) của chuỗi đã thay đổi: {modified_hash}\")\n",
    "\n",
    "# So sánh mã băm trước và sau khi thay đổi\n",
    "if original_hash != modified_hash:\n",
    "    print(\"Lưu ý: Chỉ một thay đổi nhỏ trong chuỗi đã dẫn đến sự thay đổi hoàn toàn mã băm.\")\n"
   ]
  },
  {
   "cell_type": "markdown",
   "id": "259b361e",
   "metadata": {},
   "source": [
    "Bài 3. Viết và triển khai Smart Contract đơn giản bằng Python\n",
    " Mục tiêu: Làm quen với Smart Contract và công cụ Web3.py trong phạm vi đơn giản nhất.\n",
    " \n",
    " Yêu cầu:\n",
    "- Dùng mã Solidity đã trình bày trong chương 4 để viết một hợp đồng lưu thông điệp.\n",
    "- Biên dịch hợp đồng bằng solcx.\n",
    "- Dùng Web3.py kết nối Ganache và triển khai hợp đồng.\n",
    " \n",
    " Gửi thông điệp mới và đọc lại thông điệp đã lưu"
   ]
  },
  {
   "cell_type": "code",
   "execution_count": 10,
   "id": "60ed019f",
   "metadata": {},
   "outputs": [
    {
     "name": "stdout",
     "output_type": "stream",
     "text": [
      "Đã kết nối: True\n",
      "Hợp đồng được triển khai tại: 0x670f0B4980f39B1034b442b0EF59c35892d757e1\n",
      "Thông điệp đã lưu là: Xin chào Blockchain!\n"
     ]
    }
   ],
   "source": [
    "from web3 import Web3\n",
    "from solcx import compile_source, install_solc\n",
    "\n",
    "# 1. Kết nối Ganache\n",
    "ganache_url = \"http://127.0.0.1:7545\"\n",
    "web3 = Web3(Web3.HTTPProvider(ganache_url))\n",
    "\n",
    "print(\"Đã kết nối:\", web3.is_connected())\n",
    "\n",
    "# 2. Cài đặt và biên dịch Solidity\n",
    "install_solc('0.8.0')\n",
    "\n",
    "with open(r\"D:\\HK2 NAM 3\\MẠNG MÁY TÍNH & TRUYỀN SỐ LIỆU\\CHƯƠNG 4\\Bai tap van dung 3 chuong 4.sol\", \"r\", encoding=\"utf-8\") as file:\n",
    "    contract_source_code = file.read()\n",
    "\n",
    "\n",
    "compiled_sol = compile_source(contract_source_code, solc_version=\"0.8.0\")\n",
    "contract_id, contract_interface = compiled_sol.popitem()\n",
    "\n",
    "# 3. Triển khai hợp đồng\n",
    "bytecode = contract_interface['bin']\n",
    "abi = contract_interface['abi']\n",
    "MessageContract = web3.eth.contract(abi=abi, bytecode=bytecode)\n",
    "\n",
    "# Thiết lập tài khoản mặc định\n",
    "account = web3.eth.accounts[0]\n",
    "web3.eth.default_account = account\n",
    "\n",
    "# Gửi giao dịch triển khai\n",
    "tx_hash = MessageContract.constructor().transact()\n",
    "tx_receipt = web3.eth.wait_for_transaction_receipt(tx_hash)\n",
    "\n",
    "# Lấy địa chỉ contract\n",
    "contract_address = tx_receipt.contractAddress\n",
    "print(\"Hợp đồng được triển khai tại:\", contract_address)\n",
    "\n",
    "# 4. Tạo instance contract\n",
    "contract_instance = web3.eth.contract(address=contract_address, abi=abi)\n",
    "\n",
    "# 5. Gửi thông điệp\n",
    "tx_hash = contract_instance.functions.guiThongDiep(\"Xin chào Blockchain!\").transact()\n",
    "web3.eth.wait_for_transaction_receipt(tx_hash)\n",
    "\n",
    "# 6. Đọc thông điệp\n",
    "message = contract_instance.functions.docThongDiep().call()\n",
    "print(\"Thông điệp đã lưu là:\", message)\n"
   ]
  }
 ],
 "metadata": {
  "kernelspec": {
   "display_name": "Python 3",
   "language": "python",
   "name": "python3"
  },
  "language_info": {
   "codemirror_mode": {
    "name": "ipython",
    "version": 3
   },
   "file_extension": ".py",
   "mimetype": "text/x-python",
   "name": "python",
   "nbconvert_exporter": "python",
   "pygments_lexer": "ipython3",
   "version": "3.10.8"
  }
 },
 "nbformat": 4,
 "nbformat_minor": 5
}
